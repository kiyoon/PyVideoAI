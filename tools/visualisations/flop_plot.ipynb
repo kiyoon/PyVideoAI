{
 "cells": [
  {
   "cell_type": "code",
   "execution_count": null,
   "id": "ca4e6bb0-f1f0-4f6a-b9ce-d3ff8880cb25",
   "metadata": {},
   "outputs": [],
   "source": [
    "import numpy as np\n",
    "import matplotlib.pyplot as plt\n",
    "\n",
    "# Fixing random state for reproducibility\n",
    "np.random.seed(19680801)\n",
    "\n",
    "TSN_gflops = [132.6, 132.6, 132.6]\n",
    "TSN_mAP = [49.61, 71.59, 71.93]\n",
    "\n",
    "TRN_gflops = [132.6, 132.6, 132.6]\n",
    "TRN_mAP = [54.86, 71.84, 69.80]\n",
    "\n",
    "TSM_gflops = [132.6, 132.6, 132.6]\n",
    "TSM_mAP = [79.89, 76.78, 82.24]\n",
    "\n",
    "I3D_gflops = [114.9 * 30]\n",
    "I3D_mAP = [44.2]\n",
    "\n",
    "I3DNL_gflops = [183.4 * 30]\n",
    "I3DNL_mAP = [45.9]\n",
    "\n",
    "N = 50\n",
    "x = np.random.rand(N)\n",
    "y = np.random.rand(N)\n",
    "colors = np.random.rand(N)\n",
    "area = (30 * np.random.rand(N))**2  # 0 to 15 point radii\n",
    "\n",
    "plt.scatter(TSN_gflops, TSN_mAP, c=[1,2,3], alpha=0.5, marker=\"o\")\n",
    "plt.plot(TSN_gflops, TSN_mAP, color='black', alpha=0.5)\n",
    "\n",
    "#plt.scatter(TRN_gflops, TRN_mAP, c=[1,2,3], alpha=0.5, marker=\"x\")\n",
    "#plt.plot(TRN_gflops, TRN_mAP, color='black', alpha=0.5)\n",
    "\n",
    "#plt.scatter(TSM_gflops, TSM_mAP, c=[1,2,3], alpha=0.5, marker=\"v\")\n",
    "#plt.plot(TSM_gflops, TSM_mAP, color='black', alpha=0.5)\n",
    "\n",
    "plt.scatter(I3D_gflops, I3D_mAP, c=[1], alpha=0.5, marker=\"*\")\n",
    "\n",
    "plt.scatter(I3DNL_gflops, I3DNL_mAP, c=[1], alpha=0.5, marker=\"p\")\n",
    "plt.show()"
   ]
  },
  {
   "cell_type": "code",
   "execution_count": null,
   "id": "323fc695-b166-4066-83d6-de9ea19b6037",
   "metadata": {},
   "outputs": [],
   "source": []
  }
 ],
 "metadata": {
  "kernelspec": {
   "display_name": "Python 3",
   "language": "python",
   "name": "python3"
  },
  "language_info": {
   "codemirror_mode": {
    "name": "ipython",
    "version": 3
   },
   "file_extension": ".py",
   "mimetype": "text/x-python",
   "name": "python",
   "nbconvert_exporter": "python",
   "pygments_lexer": "ipython3",
   "version": "3.8.10"
  }
 },
 "nbformat": 4,
 "nbformat_minor": 5
}
