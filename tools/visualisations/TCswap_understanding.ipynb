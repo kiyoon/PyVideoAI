{
 "cells": [
  {
   "cell_type": "code",
   "execution_count": 326,
   "id": "186e9135-d50e-4d37-9511-193606c67564",
   "metadata": {},
   "outputs": [],
   "source": [
    "import torch"
   ]
  },
  {
   "cell_type": "code",
   "execution_count": 327,
   "id": "c1ee00c0-1a0f-4468-ac84-d3b22bd55e0b",
   "metadata": {},
   "outputs": [],
   "source": [
    "'''\n",
    "TC final version\n",
    "'''\n",
    "# 16 frame\n",
    "T = 12\n",
    "a = torch.ones((4, T, 32,32,3))\n",
    "for b in range(1):\n",
    "    for t in range(T):\n",
    "        for h in range(32):\n",
    "            for w in range(32):\n",
    "                for c in range(3):\n",
    "                    a[b,t,h,w,c] = (t+1) * 10 + (c+1) * 1\n",
    "\n",
    "def decode_value(value):\n",
    "    int_value = int(value.item())\n",
    "    T = int_value // 10\n",
    "    C = int_value % 10\n",
    "    if C == 1:\n",
    "        C_str = 'R'\n",
    "    elif C == 2:\n",
    "        C_str = 'G'\n",
    "    elif C == 3:\n",
    "        C_str = 'B'\n",
    "    else:\n",
    "        raise ValueError()\n",
    "    return f'{T}{C_str}'\n",
    "\n",
    "\n",
    "def visualise_frame(values):\n",
    "    decoded = []\n",
    "    for value in values:\n",
    "        decoded.append(decode_value(value))\n",
    "        \n",
    "    print(\"(\" + \", \".join(decoded) + \")\")"
   ]
  },
  {
   "cell_type": "code",
   "execution_count": 330,
   "id": "8c0a30e3-5ee1-4420-8eca-919820de46e9",
   "metadata": {},
   "outputs": [
    {
     "name": "stdout",
     "output_type": "stream",
     "text": [
      "torch.Size([4, 3, 12, 32, 32])\n",
      "tensor(23.)\n",
      "1G\n",
      "[0, 3, 6, 4, 7, 10, 8, 11, 14, 9, 12, 15, 13, 16, 19, 17, 20, 23, 18, 21, 24, 22, 25, 28, 26, 29, 32, 27, 30, 33, 31, 34, 34, 35, 35, 35]\n",
      "[0, 3, 6, 3, 6, 9, 6, 9, 12, 9, 12, 15, 12, 15, 18, 15, 18, 21, 18, 21, 24, 21, 24, 27, 24, 27, 30, 27, 30, 33, 30, 33, 33, 33, 33, 33]\n"
     ]
    }
   ],
   "source": [
    "N, T, H, W, C = a.shape\n",
    "ncthw = a.permute(0,4,1,2,3)\n",
    "print(ncthw.shape)\n",
    "print(ncthw[0,2,1,0,0])\n",
    "print(decode_value(ncthw.permute(0,2,1,3,4).reshape(N,-1,H,W)[0,1,0,0]))\n",
    "from pyvideoai.utils.tc_reordering import TC_idx, TCred_idx\n",
    "sort_idx = TC_idx(T)\n",
    "print(sort_idx)\n",
    "sort_idx = TCred_idx(T)\n",
    "print(sort_idx)"
   ]
  },
  {
   "cell_type": "code",
   "execution_count": 325,
   "id": "42074c32-de12-4fac-bcd9-a4c92d48dc88",
   "metadata": {},
   "outputs": [
    {
     "name": "stdout",
     "output_type": "stream",
     "text": [
      "(1R, 2R, 3R)\n",
      "(2G, 3G, 4G)\n",
      "(3B, 4B, 5B)\n",
      "(4R, 5R, 6R)\n",
      "(5G, 6G, 7G)\n",
      "(6B, 7B, 8B)\n",
      "(7R, 8R, 9R)\n",
      "(8G, 9G, 10G)\n",
      "(9B, 10B, 11B)\n",
      "(10R, 11R, 12R)\n",
      "(11G, 12G, 12G)\n",
      "(12B, 12B, 12B)\n"
     ]
    }
   ],
   "source": [
    "unrolled_video = ncthw.permute(0,2,1,3,4).reshape(N,-1,H,W)\n",
    "tc_video = unrolled_video[:,sort_idx,...].reshape(N,T,C,H,W)\n",
    "for t in range(T):\n",
    "    visualise_frame(tc_video[0,t,:,0,0])"
   ]
  },
  {
   "cell_type": "markdown",
   "id": "d1b83b8f-0752-47be-9744-3848965cf4fb",
   "metadata": {},
   "source": [
    "## Below are older version of TC"
   ]
  },
  {
   "cell_type": "code",
   "execution_count": null,
   "id": "a2845d44-1927-4b3d-8b0e-b192f25d33d0",
   "metadata": {},
   "outputs": [],
   "source": [
    "a = torch.ones((4, 8, 224,224,3))\n",
    "for b in range(4):\n",
    "    for t in range(8):\n",
    "        for h in range(224):\n",
    "            for w in range(224):\n",
    "                for c in range(3):\n",
    "                    a[b,t,h,w,c] = (b+1)* 100 + (t+1) * 10 + (c+1) * 1"
   ]
  },
  {
   "cell_type": "code",
   "execution_count": 91,
   "id": "d02dd47c-3f93-4da8-ad64-b76fa2544f69",
   "metadata": {},
   "outputs": [],
   "source": [
    "def decode_value(value):\n",
    "    int_value = int(value.item())\n",
    "    T = int_value // 10 % 10\n",
    "    C = int_value % 10\n",
    "    if C == 1:\n",
    "        C_str = 'R'\n",
    "    elif C == 2:\n",
    "        C_str = 'G'\n",
    "    elif C == 3:\n",
    "        C_str = 'B'\n",
    "    else:\n",
    "        raise ValueError()\n",
    "    return f'{T}{C_str}'"
   ]
  },
  {
   "cell_type": "code",
   "execution_count": 85,
   "id": "67399e7d-0b3c-449e-8ebc-3ea9aeef5230",
   "metadata": {},
   "outputs": [
    {
     "name": "stdout",
     "output_type": "stream",
     "text": [
      "torch.Size([4, 3, 16, 224, 224])\n",
      "tensor(123.)\n"
     ]
    }
   ],
   "source": [
    "N, T, H, W, C = a.shape\n",
    "ncthw = a.permute(0,4,1,2,3)\n",
    "print(ncthw.shape)\n",
    "print(ncthw[0,2,1,0,0])"
   ]
  },
  {
   "cell_type": "code",
   "execution_count": 75,
   "id": "8a0813b4-ff7c-485c-8a11-6e4630b6324b",
   "metadata": {},
   "outputs": [],
   "source": [
    "# this is what TRN expects\n",
    "ntchw = ncthw.permute(0,2,1,3,4)"
   ]
  },
  {
   "cell_type": "code",
   "execution_count": 76,
   "id": "f16ba200-b404-44a0-b215-7879044656c1",
   "metadata": {},
   "outputs": [],
   "source": [
    "# This is what TC swapping is\n",
    "# without permuting it, just view as it is permutted.\n",
    "tcswapped_video = ncthw.reshape(N,T,C,H,W).permute(0,1,3,4,2)"
   ]
  },
  {
   "cell_type": "code",
   "execution_count": 37,
   "id": "5157af58-777f-4fd4-97a9-3ec19c233285",
   "metadata": {},
   "outputs": [
    {
     "name": "stdout",
     "output_type": "stream",
     "text": [
      "1R\n",
      "2R\n",
      "3R\n",
      "\n",
      "4R\n",
      "5R\n",
      "6R\n",
      "\n",
      "7R\n",
      "8R\n",
      "1G\n",
      "\n",
      "2G\n",
      "3G\n",
      "4G\n",
      "\n",
      "5G\n",
      "6G\n",
      "7G\n",
      "\n",
      "8G\n",
      "1B\n",
      "2B\n",
      "\n",
      "3B\n",
      "4B\n",
      "5B\n",
      "\n",
      "6B\n",
      "7B\n",
      "8B\n"
     ]
    }
   ],
   "source": [
    "print(decode_value(tcswapped_video[0,0,0,0,0]))\n",
    "print(decode_value(tcswapped_video[0,0,0,0,1]))\n",
    "print(decode_value(tcswapped_video[0,0,0,0,2]))\n",
    "print()\n",
    "print(decode_value(tcswapped_video[0,1,0,0,0]))\n",
    "print(decode_value(tcswapped_video[0,1,0,0,1]))\n",
    "print(decode_value(tcswapped_video[0,1,0,0,2]))\n",
    "print()\n",
    "print(decode_value(tcswapped_video[0,2,0,0,0]))\n",
    "print(decode_value(tcswapped_video[0,2,0,0,1]))\n",
    "print(decode_value(tcswapped_video[0,2,0,0,2]))\n",
    "print()\n",
    "print(decode_value(tcswapped_video[0,3,0,0,0]))\n",
    "print(decode_value(tcswapped_video[0,3,0,0,1]))\n",
    "print(decode_value(tcswapped_video[0,3,0,0,2]))\n",
    "print()\n",
    "print(decode_value(tcswapped_video[0,4,0,0,0]))\n",
    "print(decode_value(tcswapped_video[0,4,0,0,1]))\n",
    "print(decode_value(tcswapped_video[0,4,0,0,2]))\n",
    "print()\n",
    "print(decode_value(tcswapped_video[0,5,0,0,0]))\n",
    "print(decode_value(tcswapped_video[0,5,0,0,1]))\n",
    "print(decode_value(tcswapped_video[0,5,0,0,2]))\n",
    "print()\n",
    "print(decode_value(tcswapped_video[0,6,0,0,0]))\n",
    "print(decode_value(tcswapped_video[0,6,0,0,1]))\n",
    "print(decode_value(tcswapped_video[0,6,0,0,2]))\n",
    "print()\n",
    "print(decode_value(tcswapped_video[0,7,0,0,0]))\n",
    "print(decode_value(tcswapped_video[0,7,0,0,1]))\n",
    "print(decode_value(tcswapped_video[0,7,0,0,2]))"
   ]
  },
  {
   "cell_type": "code",
   "execution_count": 289,
   "id": "23665988-a767-45ec-b49e-b87cd05432e9",
   "metadata": {},
   "outputs": [],
   "source": [
    "# 16 frame\n",
    "T = 12\n",
    "a = torch.ones((4, T, 32,32,3))\n",
    "for b in range(1):\n",
    "    for t in range(T):\n",
    "        for h in range(32):\n",
    "            for w in range(32):\n",
    "                for c in range(3):\n",
    "                    a[b,t,h,w,c] = (t+1) * 10 + (c+1) * 1"
   ]
  },
  {
   "cell_type": "code",
   "execution_count": 290,
   "id": "b5cb24dd-a518-44f8-b451-1d26a8f74606",
   "metadata": {},
   "outputs": [],
   "source": [
    "def decode_value(value):\n",
    "    int_value = int(value.item())\n",
    "    T = int_value // 10\n",
    "    C = int_value % 10\n",
    "    if C == 1:\n",
    "        C_str = 'R'\n",
    "    elif C == 2:\n",
    "        C_str = 'G'\n",
    "    elif C == 3:\n",
    "        C_str = 'B'\n",
    "    else:\n",
    "        raise ValueError()\n",
    "    return f'{T}{C_str}'"
   ]
  },
  {
   "cell_type": "code",
   "execution_count": 309,
   "id": "62ae67b5-31ce-4b70-8e3d-bf068809e982",
   "metadata": {},
   "outputs": [
    {
     "name": "stdout",
     "output_type": "stream",
     "text": [
      "torch.Size([4, 3, 12, 32, 32])\n",
      "tensor(23.)\n",
      "1G\n",
      "[0, 3, 6, 4, 7, 10, 8, 11, 14, 9, 12, 15, 13, 16, 19, 17, 20, 23, 18, 21, 21, 22, 22, 22]\n"
     ]
    }
   ],
   "source": [
    "N, T, H, W, C = a.shape\n",
    "ncthw = a.permute(0,for t in range(T):\n",
    "    for c in range(3):\n",
    "        print(decode_value(tcswapped_video_ordered[0,t,0,0,c]))\n",
    "    print()4,1,2,3)\n",
    "print(ncthw.shape)tcswapped_video_ordered = ncthw.reshape(N,T,C,H,W)[:,ordering,:,:,:].permute(0,1,3,4,2)\n",
    "print(ncthw[0,2,1,0,0])"
   ]
  },
  {
   "cell_type": "code",
   "execution_count": 287,
   "id": "d22338c3-cdbb-445c-a90e-9b9677f806c9",
   "metadata": {
    "tags": []
   },
   "outputs": [
    {
     "name": "stdout",
     "output_type": "stream",
     "text": [
      "[0, 4, 8, 1, 5, 9, 2, 6, 10, 3, 7, 11]\n"
     ]
    }
   ],
   "source": [
    "# This is what TC swapping with ordered frames\n",
    "#ordering = list(map(lambda x: x*2 % T, range(T)))\n",
    "if T % 3 == 0:\n",
    "    ordering = list(map(lambda x: int(x*(T/3) + x//3) % T, range(T)))\n",
    "elif T % 3 == 1:\n",
    "    ordering = list(map(lambda x: (x*((2*T+1)//3)) % T, range(T)))\n",
    "else:\n",
    "    ordering = list(map(lambda x: (x*((T+1)//3)) % T, range(T)))\n",
    "#ordering = [0,11,6,1,12,7,2,13,8,5, 11, 0, 5, 11, 0, 5, 11, 0]\n",
    "print(ordering)\n",
    "tcswapped_video_ordered = ncthw.reshape(N,T,C,H,W)[:,ordering,:,:,:].permute(0,1,3,4,2)"
   ]
  },
  {
   "cell_type": "code",
   "execution_count": 288,
   "id": "90211d73-2322-43b5-984c-e7ebc36f73dd",
   "metadata": {},
   "outputs": [
    {
     "name": "stdout",
     "output_type": "stream",
     "text": [
      "1R\n",
      "2R\n",
      "3R\n",
      "\n",
      "1G\n",
      "2G\n",
      "3G\n",
      "\n",
      "1B\n",
      "2B\n",
      "3B\n",
      "\n",
      "4R\n",
      "5R\n",
      "6R\n",
      "\n",
      "4G\n",
      "5G\n",
      "6G\n",
      "\n",
      "4B\n",
      "5B\n",
      "6B\n",
      "\n",
      "7R\n",
      "8R\n",
      "9R\n",
      "\n",
      "7G\n",
      "8G\n",
      "9G\n",
      "\n",
      "7B\n",
      "8B\n",
      "9B\n",
      "\n",
      "10R\n",
      "11R\n",
      "12R\n",
      "\n",
      "10G\n",
      "11G\n",
      "12G\n",
      "\n",
      "10B\n",
      "11B\n",
      "12B\n",
      "\n"
     ]
    }
   ],
   "source": [
    "for t in range(T):\n",
    "    for c in range(3):\n",
    "        print(decode_value(tcswapped_video_ordered[0,t,0,0,c]))\n",
    "    print()"
   ]
  },
  {
   "cell_type": "code",
   "execution_count": 164,
   "id": "c0f62bd5-c8e8-4bc0-89ea-2ac742de214b",
   "metadata": {},
   "outputs": [],
   "source": [
    "# 32 frame\n",
    "a = torch.ones((4, 32, 224,224,3))\n",
    "for b in range(1):\n",
    "    for t in range(32):\n",
    "        for h in range(224):\n",
    "            for w in range(224):\n",
    "                for c in range(3):\n",
    "                    a[b,t,h,w,c] = (t+1) * 10 + (c+1) * 1"
   ]
  },
  {
   "cell_type": "code",
   "execution_count": 165,
   "id": "527883d5-ab92-4400-bb5c-f511fcabdb1a",
   "metadata": {},
   "outputs": [
    {
     "name": "stdout",
     "output_type": "stream",
     "text": [
      "torch.Size([4, 3, 32, 224, 224])\n",
      "tensor(23.)\n"
     ]
    }
   ],
   "source": [
    "N, T, H, W, C = a.shape\n",
    "ncthw = a.permute(0,4,1,2,3)\n",
    "print(ncthw.shape)\n",
    "print(ncthw[0,2,1,0,0])"
   ]
  },
  {
   "cell_type": "code",
   "execution_count": 166,
   "id": "ff0fe44e-1ac4-4bd4-b0e5-82f7f7503af7",
   "metadata": {},
   "outputs": [
    {
     "name": "stdout",
     "output_type": "stream",
     "text": [
      "[0, 11, 22, 1, 12, 23, 2, 13, 24, 3, 14, 25, 4, 15, 26, 5, 16, 27, 6, 17, 28, 7, 18, 29, 8, 19, 30, 9, 20, 31, 10, 21]\n"
     ]
    }
   ],
   "source": [
    "# This is what TC swapping with ordered frames\n",
    "ordering = list(map(lambda x: x*11 % T, range(T)))\n",
    "print(ordering)\n",
    "tcswapped_video_ordered = ncthw.reshape(N,T,C,H,W)[:,ordering,:,:,:].permute(0,1,3,4,2)"
   ]
  },
  {
   "cell_type": "code",
   "execution_count": 167,
   "id": "37ddffae-dae9-451c-9157-5feda6032631",
   "metadata": {},
   "outputs": [
    {
     "name": "stdout",
     "output_type": "stream",
     "text": [
      "1R\n",
      "2R\n",
      "3R\n",
      "\n",
      "2G\n",
      "3G\n",
      "4G\n",
      "\n",
      "3B\n",
      "4B\n",
      "5B\n",
      "\n",
      "4R\n",
      "5R\n",
      "6R\n",
      "\n",
      "5G\n",
      "6G\n",
      "7G\n",
      "\n",
      "6B\n",
      "7B\n",
      "8B\n",
      "\n",
      "7R\n",
      "8R\n",
      "9R\n",
      "\n",
      "8G\n",
      "9G\n",
      "10G\n",
      "\n",
      "9B\n",
      "10B\n",
      "11B\n",
      "\n",
      "10R\n",
      "11R\n",
      "12R\n",
      "\n",
      "11G\n",
      "12G\n",
      "13G\n",
      "\n",
      "12B\n",
      "13B\n",
      "14B\n",
      "\n",
      "13R\n",
      "14R\n",
      "15R\n",
      "\n",
      "14G\n",
      "15G\n",
      "16G\n",
      "\n",
      "15B\n",
      "16B\n",
      "17B\n",
      "\n",
      "16R\n",
      "17R\n",
      "18R\n",
      "\n",
      "17G\n",
      "18G\n",
      "19G\n",
      "\n",
      "18B\n",
      "19B\n",
      "20B\n",
      "\n",
      "19R\n",
      "20R\n",
      "21R\n",
      "\n",
      "20G\n",
      "21G\n",
      "22G\n",
      "\n",
      "21B\n",
      "22B\n",
      "23B\n",
      "\n",
      "22R\n",
      "23R\n",
      "24R\n",
      "\n",
      "23G\n",
      "24G\n",
      "25G\n",
      "\n",
      "24B\n",
      "25B\n",
      "26B\n",
      "\n",
      "25R\n",
      "26R\n",
      "27R\n",
      "\n",
      "26G\n",
      "27G\n",
      "28G\n",
      "\n",
      "27B\n",
      "28B\n",
      "29B\n",
      "\n",
      "28R\n",
      "29R\n",
      "30R\n",
      "\n",
      "29G\n",
      "30G\n",
      "31G\n",
      "\n",
      "30B\n",
      "31B\n",
      "32B\n",
      "\n",
      "31R\n",
      "32R\n",
      "1G\n",
      "\n",
      "32G\n",
      "1B\n",
      "2B\n",
      "\n"
     ]
    }
   ],
   "source": [
    "for t in range(T):\n",
    "    for c in range(3):\n",
    "        print(decode_value(tcswapped_video_ordered[0,t,0,0,c]))\n",
    "    print()"
   ]
  },
  {
   "cell_type": "code",
   "execution_count": 26,
   "id": "ebdb1ef9-695c-44ec-b508-7ca084c31dc8",
   "metadata": {},
   "outputs": [],
   "source": [
    "# Wrong way\n",
    "i3d_tcswapped_video = ncthw.permute(0,2,1,3,4).reshape(N,C,T,H,W).permute(0,2,3,4,1)"
   ]
  },
  {
   "cell_type": "code",
   "execution_count": 36,
   "id": "e9c78827-097f-455f-a38b-dcef2b0fa322",
   "metadata": {},
   "outputs": [
    {
     "name": "stdout",
     "output_type": "stream",
     "text": [
      "1R\n",
      "3B\n",
      "6G\n",
      "\n",
      "1G\n",
      "4R\n",
      "6B\n",
      "\n",
      "1B\n",
      "4G\n",
      "7R\n",
      "\n",
      "2R\n",
      "4B\n",
      "7G\n",
      "\n",
      "2G\n",
      "5R\n",
      "7B\n",
      "\n",
      "2B\n",
      "5G\n",
      "8R\n",
      "\n",
      "3R\n",
      "5B\n",
      "8G\n",
      "\n",
      "3G\n",
      "6R\n",
      "8B\n",
      "\n"
     ]
    }
   ],
   "source": [
    "for t in range(8):\n",
    "    for c in range(3):\n",
    "        print(decode_value(i3d_tcswapped_video[0,t,0,0,c]))\n",
    "    print()"
   ]
  },
  {
   "cell_type": "code",
   "execution_count": 41,
   "id": "2b9cf40a-eedd-4957-be5d-65ea85db7d0a",
   "metadata": {},
   "outputs": [],
   "source": [
    "i3d_tcswapped_video_correct = ncthw.reshape(N,T,C,H,W).permute(0,2,1,3,4).permute(0,2,3,4,1)"
   ]
  },
  {
   "cell_type": "code",
   "execution_count": 43,
   "id": "e0b059c0-147a-4d15-9235-04a4276be4c8",
   "metadata": {},
   "outputs": [
    {
     "name": "stdout",
     "output_type": "stream",
     "text": [
      "1R\n",
      "2R\n",
      "3R\n",
      "\n",
      "4R\n",
      "5R\n",
      "6R\n",
      "\n",
      "7R\n",
      "8R\n",
      "1G\n",
      "\n",
      "2G\n",
      "3G\n",
      "4G\n",
      "\n",
      "5G\n",
      "6G\n",
      "7G\n",
      "\n",
      "8G\n",
      "1B\n",
      "2B\n",
      "\n",
      "3B\n",
      "4B\n",
      "5B\n",
      "\n",
      "6B\n",
      "7B\n",
      "8B\n",
      "\n"
     ]
    }
   ],
   "source": [
    "for t in range(8):\n",
    "    for c in range(3):\n",
    "        print(decode_value(i3d_tcswapped_video_correct[0,t,0,0,c]))\n",
    "    print()"
   ]
  },
  {
   "cell_type": "code",
   "execution_count": 65,
   "id": "cfacfcc3-cd3d-4155-b394-e2656bbe4ade",
   "metadata": {},
   "outputs": [],
   "source": [
    "# Grey Short-term\n",
    "a = torch.ones((4, 24, 224,224,1))\n",
    "for b in range(4):\n",
    "    for t in range(24):\n",
    "        for h in range(224):\n",
    "            for w in range(224):\n",
    "                for c in range(1):\n",
    "                    a[b,t,h,w,c] = (t+1) * 10 + (c+1) * 1"
   ]
  },
  {
   "cell_type": "code",
   "execution_count": 66,
   "id": "7ebbafc5-cc01-49ca-8a54-64b13c66558e",
   "metadata": {},
   "outputs": [],
   "source": [
    "def decode_value_greyST(value):\n",
    "    int_value = int(value.item())\n",
    "    T = int_value // 10\n",
    "    C = int_value % 10\n",
    "    if C == 1:\n",
    "        C_str = 'Grey'\n",
    "    else:\n",
    "        raise ValueError()\n",
    "    return f'{T}{C_str}'"
   ]
  },
  {
   "cell_type": "code",
   "execution_count": 67,
   "id": "b6667335-eb53-451b-9ee0-2addc40979d6",
   "metadata": {},
   "outputs": [
    {
     "name": "stdout",
     "output_type": "stream",
     "text": [
      "torch.Size([4, 1, 24, 224, 224])\n",
      "tensor(21.)\n"
     ]
    }
   ],
   "source": [
    "N, T, H, W, C = a.shape\n",
    "ncthw = a.permute(0,4,1,2,3)\n",
    "print(ncthw.shape)\n",
    "print(ncthw[0,0,1,0,0])"
   ]
  },
  {
   "cell_type": "code",
   "execution_count": 68,
   "id": "bf5e3aa5-5ae2-436c-88bd-d657e7fdceb6",
   "metadata": {},
   "outputs": [],
   "source": [
    "# this is what TRN expects\n",
    "ntchw = ncthw.permute(0,2,1,3,4)"
   ]
  },
  {
   "cell_type": "code",
   "execution_count": 69,
   "id": "fa971284-229c-4dd0-a502-76c82edc1645",
   "metadata": {},
   "outputs": [],
   "source": [
    "# This is what Grey-ST is\n",
    "# without permuting it, just view as it is permutted.\n",
    "greyST_video = ncthw.view(N,3,T//3,H,W).reshape(N, T//3, 3, H, W).permute(0,1,3,4,2)"
   ]
  },
  {
   "cell_type": "code",
   "execution_count": 70,
   "id": "29c2bdf6-470b-4e8a-821e-66c2c525c4b7",
   "metadata": {},
   "outputs": [
    {
     "name": "stdout",
     "output_type": "stream",
     "text": [
      "1Grey\n",
      "2Grey\n",
      "3Grey\n",
      "\n",
      "4Grey\n",
      "5Grey\n",
      "6Grey\n",
      "\n",
      "7Grey\n",
      "8Grey\n",
      "9Grey\n",
      "\n",
      "10Grey\n",
      "11Grey\n",
      "12Grey\n",
      "\n",
      "13Grey\n",
      "14Grey\n",
      "15Grey\n",
      "\n",
      "16Grey\n",
      "17Grey\n",
      "18Grey\n",
      "\n",
      "19Grey\n",
      "20Grey\n",
      "21Grey\n",
      "\n",
      "22Grey\n",
      "23Grey\n",
      "24Grey\n",
      "\n"
     ]
    }
   ],
   "source": [
    "for t in range(8):\n",
    "    for c in range(3):\n",
    "        print(decode_value_greyST(greyST_video[0,t,0,0,c]))\n",
    "    print()"
   ]
  }
 ],
 "metadata": {
  "kernelspec": {
   "display_name": "Python 3",
   "language": "python",
   "name": "python3"
  },
  "language_info": {
   "codemirror_mode": {
    "name": "ipython",
    "version": 3
   },
   "file_extension": ".py",
   "mimetype": "text/x-python",
   "name": "python",
   "nbconvert_exporter": "python",
   "pygments_lexer": "ipython3",
   "version": "3.8.10"
  }
 },
 "nbformat": 4,
 "nbformat_minor": 5
}
