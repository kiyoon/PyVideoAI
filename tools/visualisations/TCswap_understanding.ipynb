{
 "cells": [
  {
   "cell_type": "code",
   "execution_count": 1,
   "id": "186e9135-d50e-4d37-9511-193606c67564",
   "metadata": {},
   "outputs": [],
   "source": [
    "import torch"
   ]
  },
  {
   "cell_type": "code",
   "execution_count": null,
   "id": "a2845d44-1927-4b3d-8b0e-b192f25d33d0",
   "metadata": {},
   "outputs": [],
   "source": [
    "a = torch.ones((4, 8, 224,224,3))\n",
    "for b in range(4):\n",
    "    for t in range(8):\n",
    "        for h in range(224):\n",
    "            for w in range(224):\n",
    "                for c in range(3):\n",
    "                    a[b,t,h,w,c] = (b+1)* 100 + (t+1) * 10 + (c+1) * 1\n",
    "print(a)"
   ]
  },
  {
   "cell_type": "code",
   "execution_count": 20,
   "id": "d02dd47c-3f93-4da8-ad64-b76fa2544f69",
   "metadata": {},
   "outputs": [],
   "source": [
    "def decode_value(value):\n",
    "    int_value = int(value.item())\n",
    "    T = int_value // 10 % 10\n",
    "    C = int_value % 10\n",
    "    if C == 1:\n",
    "        C_str = 'R'\n",
    "    elif C == 2:\n",
    "        C_str = 'G'\n",
    "    elif C == 3:\n",
    "        C_str = 'B'\n",
    "    else:\n",
    "        raise ValueError()\n",
    "    return f'{T}{C_str}'"
   ]
  },
  {
   "cell_type": "code",
   "execution_count": 11,
   "id": "67399e7d-0b3c-449e-8ebc-3ea9aeef5230",
   "metadata": {},
   "outputs": [
    {
     "name": "stdout",
     "output_type": "stream",
     "text": [
      "torch.Size([4, 3, 8, 224, 224])\n",
      "tensor(123.)\n"
     ]
    }
   ],
   "source": [
    "N, T, H, W, C = a.shape\n",
    "ncthw = a.permute(0,4,1,2,3)\n",
    "print(ncthw.shape)\n",
    "print(ncthw[0,2,1,0,0])"
   ]
  },
  {
   "cell_type": "code",
   "execution_count": null,
   "id": "8a0813b4-ff7c-485c-8a11-6e4630b6324b",
   "metadata": {},
   "outputs": [],
   "source": [
    "# this is what TRN expects\n",
    "ntchw = ncthw.permute(0,2,1,3,4)"
   ]
  },
  {
   "cell_type": "code",
   "execution_count": 14,
   "id": "f16ba200-b404-44a0-b215-7879044656c1",
   "metadata": {},
   "outputs": [],
   "source": [
    "# This is what TC swapping is\n",
    "# without permuting it, just view as it is permutted.\n",
    "tcswapped_video = ncthw.reshape(N,T,C,H,W).permute(0,1,3,4,2)"
   ]
  },
  {
   "cell_type": "code",
   "execution_count": 37,
   "id": "5157af58-777f-4fd4-97a9-3ec19c233285",
   "metadata": {},
   "outputs": [
    {
     "name": "stdout",
     "output_type": "stream",
     "text": [
      "1R\n",
      "2R\n",
      "3R\n",
      "\n",
      "4R\n",
      "5R\n",
      "6R\n",
      "\n",
      "7R\n",
      "8R\n",
      "1G\n",
      "\n",
      "2G\n",
      "3G\n",
      "4G\n",
      "\n",
      "5G\n",
      "6G\n",
      "7G\n",
      "\n",
      "8G\n",
      "1B\n",
      "2B\n",
      "\n",
      "3B\n",
      "4B\n",
      "5B\n",
      "\n",
      "6B\n",
      "7B\n",
      "8B\n"
     ]
    }
   ],
   "source": [
    "print(decode_value(tcswapped_video[0,0,0,0,0]))\n",
    "print(decode_value(tcswapped_video[0,0,0,0,1]))\n",
    "print(decode_value(tcswapped_video[0,0,0,0,2]))\n",
    "print()\n",
    "print(decode_value(tcswapped_video[0,1,0,0,0]))\n",
    "print(decode_value(tcswapped_video[0,1,0,0,1]))\n",
    "print(decode_value(tcswapped_video[0,1,0,0,2]))\n",
    "print()\n",
    "print(decode_value(tcswapped_video[0,2,0,0,0]))\n",
    "print(decode_value(tcswapped_video[0,2,0,0,1]))\n",
    "print(decode_value(tcswapped_video[0,2,0,0,2]))\n",
    "print()\n",
    "print(decode_value(tcswapped_video[0,3,0,0,0]))\n",
    "print(decode_value(tcswapped_video[0,3,0,0,1]))\n",
    "print(decode_value(tcswapped_video[0,3,0,0,2]))\n",
    "print()\n",
    "print(decode_value(tcswapped_video[0,4,0,0,0]))\n",
    "print(decode_value(tcswapped_video[0,4,0,0,1]))\n",
    "print(decode_value(tcswapped_video[0,4,0,0,2]))\n",
    "print()\n",
    "print(decode_value(tcswapped_video[0,5,0,0,0]))\n",
    "print(decode_value(tcswapped_video[0,5,0,0,1]))\n",
    "print(decode_value(tcswapped_video[0,5,0,0,2]))\n",
    "print()\n",
    "print(decode_value(tcswapped_video[0,6,0,0,0]))\n",
    "print(decode_value(tcswapped_video[0,6,0,0,1]))\n",
    "print(decode_value(tcswapped_video[0,6,0,0,2]))\n",
    "print()\n",
    "print(decode_value(tcswapped_video[0,7,0,0,0]))\n",
    "print(decode_value(tcswapped_video[0,7,0,0,1]))\n",
    "print(decode_value(tcswapped_video[0,7,0,0,2]))"
   ]
  },
  {
   "cell_type": "code",
   "execution_count": 26,
   "id": "ebdb1ef9-695c-44ec-b508-7ca084c31dc8",
   "metadata": {},
   "outputs": [],
   "source": [
    "# Wrong way\n",
    "i3d_tcswapped_video = ncthw.permute(0,2,1,3,4).reshape(N,C,T,H,W).permute(0,2,3,4,1)"
   ]
  },
  {
   "cell_type": "code",
   "execution_count": 36,
   "id": "e9c78827-097f-455f-a38b-dcef2b0fa322",
   "metadata": {},
   "outputs": [
    {
     "name": "stdout",
     "output_type": "stream",
     "text": [
      "1R\n",
      "3B\n",
      "6G\n",
      "\n",
      "1G\n",
      "4R\n",
      "6B\n",
      "\n",
      "1B\n",
      "4G\n",
      "7R\n",
      "\n",
      "2R\n",
      "4B\n",
      "7G\n",
      "\n",
      "2G\n",
      "5R\n",
      "7B\n",
      "\n",
      "2B\n",
      "5G\n",
      "8R\n",
      "\n",
      "3R\n",
      "5B\n",
      "8G\n",
      "\n",
      "3G\n",
      "6R\n",
      "8B\n",
      "\n"
     ]
    }
   ],
   "source": [
    "for t in range(8):\n",
    "    for c in range(3):\n",
    "        print(decode_value(i3d_tcswapped_video[0,t,0,0,c]))\n",
    "    print()"
   ]
  },
  {
   "cell_type": "code",
   "execution_count": 41,
   "id": "2b9cf40a-eedd-4957-be5d-65ea85db7d0a",
   "metadata": {},
   "outputs": [],
   "source": [
    "i3d_tcswapped_video_correct = ncthw.reshape(N,T,C,H,W).permute(0,2,1,3,4).permute(0,2,3,4,1)"
   ]
  },
  {
   "cell_type": "code",
   "execution_count": 43,
   "id": "e0b059c0-147a-4d15-9235-04a4276be4c8",
   "metadata": {},
   "outputs": [
    {
     "name": "stdout",
     "output_type": "stream",
     "text": [
      "1R\n",
      "2R\n",
      "3R\n",
      "\n",
      "4R\n",
      "5R\n",
      "6R\n",
      "\n",
      "7R\n",
      "8R\n",
      "1G\n",
      "\n",
      "2G\n",
      "3G\n",
      "4G\n",
      "\n",
      "5G\n",
      "6G\n",
      "7G\n",
      "\n",
      "8G\n",
      "1B\n",
      "2B\n",
      "\n",
      "3B\n",
      "4B\n",
      "5B\n",
      "\n",
      "6B\n",
      "7B\n",
      "8B\n",
      "\n"
     ]
    }
   ],
   "source": [
    "for t in range(8):\n",
    "    for c in range(3):\n",
    "        print(decode_value(i3d_tcswapped_video_correct[0,t,0,0,c]))\n",
    "    print()"
   ]
  },
  {
   "cell_type": "code",
   "execution_count": 58,
   "id": "cfacfcc3-cd3d-4155-b394-e2656bbe4ade",
   "metadata": {},
   "outputs": [],
   "source": [
    "# Grey Short-term\n",
    "a = torch.ones((4, 24, 224,224,1))\n",
    "for b in range(4):\n",
    "    for t in range(24):\n",
    "        for h in range(224):\n",
    "            for w in range(224):\n",
    "                for c in range(1):\n",
    "                    a[b,t,h,w,c] = (t+1) * 10 + (c+1) * 1"
   ]
  },
  {
   "cell_type": "code",
   "execution_count": 59,
   "id": "7ebbafc5-cc01-49ca-8a54-64b13c66558e",
   "metadata": {},
   "outputs": [],
   "source": [
    "def decode_value_greyST(value):\n",
    "    int_value = int(value.item())\n",
    "    T = int_value // 10\n",
    "    C = int_value % 10\n",
    "    if C == 1:\n",
    "        C_str = 'Grey'\n",
    "    else:\n",
    "        raise ValueError()\n",
    "    return f'{T}{C_str}'"
   ]
  },
  {
   "cell_type": "code",
   "execution_count": 60,
   "id": "b6667335-eb53-451b-9ee0-2addc40979d6",
   "metadata": {},
   "outputs": [
    {
     "name": "stdout",
     "output_type": "stream",
     "text": [
      "torch.Size([4, 1, 24, 224, 224])\n",
      "tensor(21.)\n"
     ]
    }
   ],
   "source": [
    "N, T, H, W, C = a.shape\n",
    "ncthw = a.permute(0,4,1,2,3)\n",
    "print(ncthw.shape)\n",
    "print(ncthw[0,0,1,0,0])"
   ]
  },
  {
   "cell_type": "code",
   "execution_count": 61,
   "id": "bf5e3aa5-5ae2-436c-88bd-d657e7fdceb6",
   "metadata": {},
   "outputs": [],
   "source": [
    "# this is what TRN expects\n",
    "ntchw = ncthw.permute(0,2,1,3,4)"
   ]
  },
  {
   "cell_type": "code",
   "execution_count": 62,
   "id": "fa971284-229c-4dd0-a502-76c82edc1645",
   "metadata": {},
   "outputs": [],
   "source": [
    "# This is what Grey-ST is\n",
    "# without permuting it, just view as it is permutted.\n",
    "greyST_video = ncthw.view(N,3,T//3,H,W).reshape(N, T//3, 3, H, W).permute(0,1,3,4,2)"
   ]
  },
  {
   "cell_type": "code",
   "execution_count": 63,
   "id": "29c2bdf6-470b-4e8a-821e-66c2c525c4b7",
   "metadata": {},
   "outputs": [
    {
     "name": "stdout",
     "output_type": "stream",
     "text": [
      "1Grey\n",
      "2Grey\n",
      "3Grey\n",
      "\n",
      "4Grey\n",
      "5Grey\n",
      "6Grey\n",
      "\n",
      "7Grey\n",
      "8Grey\n",
      "9Grey\n",
      "\n",
      "10Grey\n",
      "11Grey\n",
      "12Grey\n",
      "\n",
      "13Grey\n",
      "14Grey\n",
      "15Grey\n",
      "\n",
      "16Grey\n",
      "17Grey\n",
      "18Grey\n",
      "\n",
      "19Grey\n",
      "20Grey\n",
      "21Grey\n",
      "\n",
      "22Grey\n",
      "23Grey\n",
      "24Grey\n",
      "\n"
     ]
    }
   ],
   "source": [
    "for t in range(8):\n",
    "    for c in range(3):\n",
    "        print(decode_value_greyST(greyST_video[0,t,0,0,c]))\n",
    "    print()"
   ]
  }
 ],
 "metadata": {
  "kernelspec": {
   "display_name": "Python 3",
   "language": "python",
   "name": "python3"
  },
  "language_info": {
   "codemirror_mode": {
    "name": "ipython",
    "version": 3
   },
   "file_extension": ".py",
   "mimetype": "text/x-python",
   "name": "python",
   "nbconvert_exporter": "python",
   "pygments_lexer": "ipython3",
   "version": "3.8.10"
  }
 },
 "nbformat": 4,
 "nbformat_minor": 5
}
