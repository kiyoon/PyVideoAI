{
 "cells": [
  {
   "cell_type": "code",
   "execution_count": 53,
   "id": "ca4e6bb0-f1f0-4f6a-b9ce-d3ff8880cb25",
   "metadata": {},
   "outputs": [
    {
     "data": {
      "image/png": "[encoded data removed]",
      "text/plain": [
       "<Figure size 432x288 with 1 Axes>"
      ]
     },
     "metadata": {
      "needs_background": "light"
     },
     "output_type": "display_data"
    }
   ],
   "source": [
    "\n",
    "import matplotlib.pyplot as plt\n",
    "import matplotlib.patches as mpatches\n",
    "\n",
    "TSN_time = [36, 36, 38]\n",
    "TSN_acc = [17.18,\n",
    "36.78,\n",
    "35.5]\n",
    "\n",
    "TRN_time = [36, 36, 38]\n",
    "TRN_acc = [29.69,\n",
    "35.94,\n",
    "36.96]\n",
    "\n",
    "MTRN_time = [36, 36, 39]\n",
    "MTRN_acc = [30.98,\n",
    "36.63,\n",
    "38.36]\n",
    "\n",
    "TSM_time = [36, 36, 39]\n",
    "TSM_acc = [45.37,\n",
    "45.76,\n",
    "47.55]\n",
    "\n",
    "TDN_time = [201]\n",
    "TDN_acc = [52.3]\n",
    "\n",
    "Swin_time = [1128]\n",
    "Swin_acc = [54.76]\n",
    "\n",
    "colors = [[1,0,0,1],\n",
    "         [0,0,1,1],\n",
    "         [0.2,0.2,0.2,1]]\n",
    "\n",
    "rgb_patch = mpatches.Patch(color=colors[0], label='RGB')\n",
    "tc_patch = mpatches.Patch(color=colors[1], label='TC')\n",
    "greyst_patch = mpatches.Patch(color=colors[2], label='GrayST')\n",
    "\n",
    "alpha = 1.0\n",
    "size = 100\n",
    "plt.plot(TSN_time, TSN_acc, color='black', alpha=alpha)\n",
    "plt.scatter(TSN_time, TSN_acc, color=colors, alpha=alpha, marker=\"o\", s=size, label='TSN')\n",
    "\n",
    "#plt.plot(TRN_time, TRN_acc, color='black', alpha=alpha)\n",
    "#plt.scatter(TRN_time, TRN_acc, color=colors, alpha=alpha, marker=\"x\", s=size, label='TRN')\n",
    "\n",
    "#plt.plot(MTRN_time, MTRN_acc, color='black', alpha=alpha)\n",
    "#plt.scatter(MTRN_time, MTRN_acc, color=colors, alpha=alpha, marker=\"v\", s=size, label='MTRN')\n",
    "\n",
    "plt.plot(TSM_time, TSM_acc, color='black', alpha=alpha)\n",
    "plt.scatter(TSM_time, TSM_acc, color=colors, alpha=alpha, marker=\"*\", s=size, label='TSM')\n",
    "\n",
    "\n",
    "plt.scatter(TDN_time, TDN_acc, color=colors[0], alpha=alpha, marker=\"+\", s=size, label='TDN')\n",
    "\n",
    "plt.scatter(Swin_time, Swin_acc, color=colors[0], alpha=alpha, marker=\"p\", s=size, label='Swin Transformer')\n",
    "\n",
    "\n",
    "\n",
    "\n",
    "legend1 = plt.legend(loc='lower right')\n",
    "legend2 = plt.legend(handles=[rgb_patch, tc_patch, greyst_patch], loc='lower center')\n",
    "# plot two legends at the same time\n",
    "plt.gca().add_artist(legend1)\n",
    "\n",
    "plt.xlabel('Inference Time (s)')\n",
    "plt.ylabel('Accuracy (%)')\n",
    "\n",
    "plt.show()"
   ]
  },
  {
   "cell_type": "code",
   "execution_count": null,
   "id": "323fc695-b166-4066-83d6-de9ea19b6037",
   "metadata": {},
   "outputs": [],
   "source": []
  }
 ],
 "metadata": {
  "kernelspec": {
   "display_name": "Python 3",
   "language": "python",
   "name": "python3"
  },
  "language_info": {
   "codemirror_mode": {
    "name": "ipython",
    "version": 3
   },
   "file_extension": ".py",
   "mimetype": "text/x-python",
   "name": "python",
   "nbconvert_exporter": "python",
   "pygments_lexer": "ipython3",
   "version": "3.8.10"
  }
 },
 "nbformat": 4,
 "nbformat_minor": 5
}
