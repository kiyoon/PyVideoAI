{
 "cells": [
  {
   "cell_type": "code",
   "execution_count": 54,
   "id": "aa2f0eca-a939-4a0c-9330-5216f09b5a56",
   "metadata": {},
   "outputs": [],
   "source": [
    "import os\n",
    "import pickle\n",
    "import torch\n",
    "import exp_configs"
   ]
  },
  {
   "cell_type": "code",
   "execution_count": 37,
   "id": "99e7217a-4985-4daf-bbd7-1b3e79ddcfdc",
   "metadata": {},
   "outputs": [],
   "source": [
    "import wandb\n",
    "\n",
    "entity = 'cnn'\n",
    "project = 'multilabel_ar_hmdb_202207'\n",
    "api = wandb.Api()\n",
    "\n",
    "runs = api.runs(f\"{entity}/{project}\")"
   ]
  },
  {
   "cell_type": "code",
   "execution_count": 40,
   "id": "6480dd17-4396-48cf-9c3d-e3c5fbc46156",
   "metadata": {},
   "outputs": [
    {
     "name": "stdout",
     "output_type": "stream",
     "text": [
      "hmdb_confusion2 ch_epic100.tsm_resnet50_flow entropy_maximise split1 v0 3aapmfba\n",
      "hmdb_confusion2 tsm_resnet50_nopartialbn entropy_maximise split1 v0 2ec4kzj7\n",
      "predictions:v4\n",
      "predictions:v0\n"
     ]
    }
   ],
   "source": [
    "# find the run\n",
    "search_run_names = ['hmdb_confusion2 tsm_resnet50_nopartialbn entropy_maximise split1', 'hmdb_confusion2 ch_epic100.tsm_resnet50_flow entropy_maximise split1']\n",
    "found_runs = []\n",
    "for run in runs:\n",
    "    for search_run_name in search_run_names:\n",
    "        if search_run_name in run.name:\n",
    "            print(run.name, run.id)\n",
    "            found_runs.append(run)\n",
    "\n",
    "assert len(found_runs) == len(search_run_names)\n",
    "\n",
    "predictions = []\n",
    "for run in found_runs:\n",
    "    # find artifact from the run.\n",
    "    produced_artifacts = run.logged_artifacts()\n",
    "    for art in produced_artifacts:\n",
    "        if art.name.startswith('predictions'):\n",
    "            print(art.name)\n",
    "            artifact_name = art.name\n",
    "\n",
    "    # Download the artifact\n",
    "    artifact = api.artifact(f\"{entity}/{project}/{artifact_name}\")\n",
    "    artifact_dir = artifact.checkout()\n",
    "\n",
    "    # open\n",
    "    best_epoch = run.summary['epoch_best-val_epoch']\n",
    "    with open(os.path.join(artifact_dir, f'epoch_{best_epoch:04d}_val_oneclip.pkl'), 'rb') as f:\n",
    "        data = pickle.load(f)\n",
    "    predictions.append(data)"
   ]
  },
  {
   "cell_type": "code",
   "execution_count": 50,
   "id": "28e57abc-8e0a-4f9c-88f9-bcd2e6076a38",
   "metadata": {},
   "outputs": [],
   "source": [
    "# Compute sigmoid average of two predictions\n",
    "assert all(predictions[0]['video_ids'] == predictions[1]['video_ids'])\n",
    "sigmoid_1 = torch.sigmoid(torch.tensor(predictions[0]['video_predictions']))\n",
    "sigmoid_2 = torch.sigmoid(torch.tensor(predictions[1]['video_predictions']))\n",
    "sigmoid_average = (sigmoid_1 + sigmoid_2) / 2"
   ]
  },
  {
   "cell_type": "code",
   "execution_count": 52,
   "id": "2c77a8cc-5106-48bd-8f06-3a57484b0d61",
   "metadata": {},
   "outputs": [
    {
     "data": {
      "text/plain": [
       "tensor([[0.8446, 0.5062, 0.5175,  ..., 0.4825, 0.4943, 0.5390],\n",
       "        [0.8317, 0.4956, 0.4772,  ..., 0.4597, 0.4909, 0.4940],\n",
       "        [0.8701, 0.4786, 0.4624,  ..., 0.4663, 0.5124, 0.5425],\n",
       "        ...,\n",
       "        [0.5350, 0.4910, 0.4853,  ..., 0.5337, 0.5271, 0.5346],\n",
       "        [0.5356, 0.4997, 0.5058,  ..., 0.5085, 0.5292, 0.5110],\n",
       "        [0.4181, 0.5011, 0.4826,  ..., 0.5248, 0.4769, 0.6315]])"
      ]
     },
     "execution_count": 52,
     "metadata": {},
     "output_type": "execute_result"
    }
   ],
   "source": [
    "sigmoid_1"
   ]
  },
  {
   "cell_type": "code",
   "execution_count": 53,
   "id": "c5ff22ef-3651-4d9a-b452-86f451c8de46",
   "metadata": {},
   "outputs": [
    {
     "data": {
      "text/plain": [
       "tensor([[0.9356, 0.5135, 0.5104,  ..., 0.4688, 0.5011, 0.5616],\n",
       "        [0.8533, 0.5421, 0.4915,  ..., 0.5325, 0.5755, 0.5171],\n",
       "        [0.8798, 0.5573, 0.4774,  ..., 0.4899, 0.4993, 0.6170],\n",
       "        ...,\n",
       "        [0.5271, 0.5809, 0.4670,  ..., 0.5971, 0.6448, 0.5476],\n",
       "        [0.5294, 0.5826, 0.4852,  ..., 0.5951, 0.6115, 0.5807],\n",
       "        [0.5578, 0.5020, 0.4951,  ..., 0.6422, 0.5599, 0.6163]])"
      ]
     },
     "execution_count": 53,
     "metadata": {},
     "output_type": "execute_result"
    }
   ],
   "source": [
    "sigmoid_2"
   ]
  },
  {
   "cell_type": "code",
   "execution_count": 51,
   "id": "bdd23739-17dc-4a3f-bce8-a940ebc9bab6",
   "metadata": {},
   "outputs": [
    {
     "data": {
      "text/plain": [
       "tensor([[0.8901, 0.5099, 0.5140,  ..., 0.4756, 0.4977, 0.5503],\n",
       "        [0.8425, 0.5189, 0.4844,  ..., 0.4961, 0.5332, 0.5055],\n",
       "        [0.8750, 0.5180, 0.4699,  ..., 0.4781, 0.5058, 0.5797],\n",
       "        ...,\n",
       "        [0.5310, 0.5360, 0.4761,  ..., 0.5654, 0.5860, 0.5411],\n",
       "        [0.5325, 0.5411, 0.4955,  ..., 0.5518, 0.5703, 0.5458],\n",
       "        [0.4880, 0.5015, 0.4889,  ..., 0.5835, 0.5184, 0.6239]])"
      ]
     },
     "execution_count": 51,
     "metadata": {},
     "output_type": "execute_result"
    }
   ],
   "source": [
    "sigmoid_average"
   ]
  },
  {
   "cell_type": "code",
   "execution_count": 68,
   "id": "f78e748c-7514-4604-9e05-52cd4c1a2758",
   "metadata": {},
   "outputs": [
    {
     "name": "stdout",
     "output_type": "stream",
     "text": [
      "0.611764705882353\n",
      "0.6294117647058823\n",
      "0.6836601307189543\n",
      "0.637563587725868\n"
     ]
    }
   ],
   "source": [
    "# calculate metrics\n",
    "cfg = exp_configs.load_cfg('hmdb_confusion2', 'tsm_resnet50_nopartialbn', 'assume_negative', dataset_channel='beta', exp_channel='labelsmth')\n",
    "\n",
    "for metric in cfg.metrics['val']:\n",
    "    metric.clean_data()\n",
    "    metric.add_clip_predictions(torch.tensor(predictions[0]['video_ids']), sigmoid_average, torch.tensor(predictions[0]['video_labels']))\n",
    "    metric.calculate_metrics()\n",
    "    print(metric.last_calculated_metrics)"
   ]
  },
  {
   "cell_type": "code",
   "execution_count": null,
   "id": "b7b35f10-26c7-490e-9be0-b4451e287292",
   "metadata": {},
   "outputs": [],
   "source": []
  }
 ],
 "metadata": {
  "kernelspec": {
   "display_name": "Python 3 (ipykernel)",
   "language": "python",
   "name": "python3"
  },
  "language_info": {
   "codemirror_mode": {
    "name": "ipython",
    "version": 3
   },
   "file_extension": ".py",
   "mimetype": "text/x-python",
   "name": "python",
   "nbconvert_exporter": "python",
   "pygments_lexer": "ipython3",
   "version": "3.9.7"
  }
 },
 "nbformat": 4,
 "nbformat_minor": 5
}
