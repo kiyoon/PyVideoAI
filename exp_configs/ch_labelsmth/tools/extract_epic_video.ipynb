{
 "cells": [
  {
   "cell_type": "code",
   "execution_count": null,
   "id": "33a69822-f3b8-47db-9ff0-25e4b648890d",
   "metadata": {},
   "outputs": [],
   "source": [
    "import dataset_configs\n",
    "import pickle\n",
    "from pathlib import Path\n",
    "from IPython.display import Video"
   ]
  },
  {
   "cell_type": "code",
   "execution_count": null,
   "id": "badb16b2-e226-4c0f-918d-223de5ec3699",
   "metadata": {},
   "outputs": [],
   "source": [
    "cfg = dataset_configs.load_cfg('epic100_verb')"
   ]
  },
  {
   "cell_type": "code",
   "execution_count": null,
   "id": "55c433e4-233b-4ef8-9f47-fa145bfd1792",
   "metadata": {},
   "outputs": [],
   "source": [
    "with open(Path.home() / 'tsm_resnet50_nopartialbn_epoch_0020_val_oneclip.pkl', 'rb') as f:\n",
    "    data = pickle.load(f)\n",
    "\n",
    "data.keys()"
   ]
  },
  {
   "cell_type": "code",
   "execution_count": null,
   "id": "be7a307c-fb49-420b-891b-5813bb991da1",
   "metadata": {},
   "outputs": [],
   "source": [
    "preds = []\n",
    "videos = []\n",
    "for pred, label, video_id in zip(data['video_predictions'], data['video_labels'], data['video_ids']):\n",
    "    if label == 19:    # peel\n",
    "        narration_id = cfg.narration_id_sorted[video_id]\n",
    "        video = Path(cfg.video_dir) / 'val' / f'{narration_id}.mp4'\n",
    "\n",
    "        print(video)\n",
    "        preds.append(pred)\n",
    "        videos.append(video)"
   ]
  },
  {
   "cell_type": "code",
   "execution_count": null,
   "id": "dd818f8d-8838-49f2-9c42-2e919cc58503",
   "metadata": {},
   "outputs": [],
   "source": [
    "print(cfg.class_keys[preds[51].argmax()])\n",
    "Video(videos[51], embed=True)"
   ]
  },
  {
   "cell_type": "code",
   "execution_count": null,
   "id": "65f5d8b7-7c19-4c6b-8860-8168d0fbbc10",
   "metadata": {},
   "outputs": [],
   "source": [
    "len(videos)"
   ]
  },
  {
   "cell_type": "code",
   "execution_count": null,
   "id": "04729680-8f7e-4efa-82cd-5f211eef96a5",
   "metadata": {},
   "outputs": [],
   "source": [
    "print(cfg.class_keys[preds[52].argmax()])\n",
    "print(videos[52])\n",
    "Video(videos[52], embed=True)"
   ]
  },
  {
   "cell_type": "code",
   "execution_count": null,
   "id": "a10232fc-b382-4c76-b486-cc26696ebc63",
   "metadata": {},
   "outputs": [],
   "source": [
    "print(cfg.class_keys[preds[53].argmax()])\n",
    "Video(videos[53], embed=True)"
   ]
  },
  {
   "cell_type": "code",
   "execution_count": null,
   "id": "4c7779d5-be1f-4d0a-9b61-d978d5912714",
   "metadata": {},
   "outputs": [],
   "source": [
    "print(cfg.class_keys[preds[54].argmax()])\n",
    "Video(videos[54], embed=True)"
   ]
  },
  {
   "cell_type": "code",
   "execution_count": null,
   "id": "a87db3dc-97b6-450e-a0f6-3917ff4ee340",
   "metadata": {},
   "outputs": [],
   "source": []
  }
 ],
 "metadata": {
  "kernelspec": {
   "display_name": "Python 3 (ipykernel)",
   "language": "python",
   "name": "python3"
  },
  "language_info": {
   "codemirror_mode": {
    "name": "ipython",
    "version": 3
   },
   "file_extension": ".py",
   "mimetype": "text/x-python",
   "name": "python",
   "nbconvert_exporter": "python",
   "pygments_lexer": "ipython3",
   "version": "3.9.7"
  }
 },
 "nbformat": 4,
 "nbformat_minor": 5
}
