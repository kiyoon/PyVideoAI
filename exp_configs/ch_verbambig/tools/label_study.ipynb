{
 "cells": [
  {
   "cell_type": "code",
   "execution_count": null,
   "id": "87234fba-6e3a-4f3d-a8cf-edcfd1a594f8",
   "metadata": {},
   "outputs": [],
   "source": [
    "from video_datasets_api.epic_kitchens_100.get_class_keys import EPIC100_get_class_keys\n",
    "from video_datasets_api.epic_kitchens_100.read_annotations import epic_narration_id_to_unique_id\n",
    "import numpy as np\n",
    "import os\n",
    "\n",
    "from read_feature_neighbours import get_label_change_info\n",
    "from IPython import display\n",
    "np.random.seed(20)"
   ]
  },
  {
   "cell_type": "code",
   "execution_count": null,
   "id": "851c69b7-7a8a-4fb4-9065-9a218f361aa7",
   "metadata": {},
   "outputs": [],
   "source": [
    "features_neighbours_dir = '/home/s1884147/scratch2/experiments/experiments_labelsmooth/epic100_verb/ch_epic100.tsm_resnet50/minceloss/version_002/predictions/features_neighbours'"
   ]
  },
  {
   "cell_type": "code",
   "execution_count": null,
   "id": "57aef0f4-8759-4893-83f1-4ed395155331",
   "metadata": {},
   "outputs": [],
   "source": [
    "features_neighbours_dir = '/home/s1884147/scratch2/experiments_mlp/experiments_labelsmth/epic100_verb/ch_epic100.tsm_resnet50/maskceloss/version_000/predictions/features_neighbours'"
   ]
  },
  {
   "cell_type": "code",
   "execution_count": null,
   "id": "af900eba-e25f-4670-ba7d-33b0a815e775",
   "metadata": {},
   "outputs": [],
   "source": [
    "epic100_annotations_root = '/home/s1884147/project/PyVideoAI/data/EPIC_KITCHENS_100/epic-kitchens-100-annotations'\n",
    "thr = 0.2\n",
    "video_dir = '/home/s1884147/project/PyVideoAI/data/EPIC_KITCHENS_100/segments324_15fps/train'\n",
    "\n",
    "epochs, video_ids, gt_labels, pseudo_soft_labels= get_label_change_info(features_neighbours_dir)\n",
    "\n",
    "\n",
    "verb_class_keys = EPIC100_get_class_keys(epic100_annotations_root, 'verb')\n",
    "_, video_id_to_narration_id = epic_narration_id_to_unique_id(epic100_annotations_root)  "
   ]
  },
  {
   "cell_type": "code",
   "execution_count": null,
   "id": "75a8636c-cd14-4e8f-9879-c4189b177d0f",
   "metadata": {},
   "outputs": [],
   "source": [
    "num_samples = video_ids.shape[1]\n",
    "video_idx_sampled = np.random.choice(range(num_samples), 50, replace=False)\n",
    "for video_idx in video_idx_sampled:\n",
    "    video_id = video_id_to_narration_id[video_ids[0,video_idx]]\n",
    "    print(f'{video_id = }')\n",
    "    video_path = os.path.join(video_dir, f'{video_id}.mp4')\n",
    "    display.display(display.Video(video_path, embed=True))\n",
    "    print(f'GT label = {verb_class_keys[gt_labels[0, video_idx]]}')\n",
    "    for epoch, video_id, gt_label, pseudo_soft_label in zip(epochs, video_ids, gt_labels, pseudo_soft_labels):\n",
    "        multilabel = (pseudo_soft_label[video_idx] > thr).astype(int)\n",
    "        pseudo_labels = np.concatenate(np.argwhere(multilabel == 1))\n",
    "        string_labels = [str(verb_class_keys[pseudo_label]) for pseudo_label in pseudo_labels] \n",
    "        print(f'{epoch = }, {string_labels}')"
   ]
  },
  {
   "cell_type": "code",
   "execution_count": null,
   "id": "0703a546-0b2a-4485-b657-925248c64ea1",
   "metadata": {},
   "outputs": [],
   "source": []
  }
 ],
 "metadata": {
  "kernelspec": {
   "display_name": "Python 3 (ipykernel)",
   "language": "python",
   "name": "python3"
  },
  "language_info": {
   "codemirror_mode": {
    "name": "ipython",
    "version": 3
   },
   "file_extension": ".py",
   "mimetype": "text/x-python",
   "name": "python",
   "nbconvert_exporter": "python",
   "pygments_lexer": "ipython3",
   "version": "3.9.7"
  }
 },
 "nbformat": 4,
 "nbformat_minor": 5
}
